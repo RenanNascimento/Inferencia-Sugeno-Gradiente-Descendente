{
 "cells": [
  {
   "cell_type": "markdown",
   "metadata": {},
   "source": [
    "# Inferencia Sugeno - Gradiente Descendente\n",
    "Utilizando o metodo do gradiente descendente para aproximar a saída para f(x)=x^2\n",
    "\n",
    "## Autores\n",
    "Renan Mateus Bernado do Nascimento\n",
    "<br>Nicolas Arruda Maduro"
   ]
  },
  {
   "cell_type": "code",
   "execution_count": 7,
   "metadata": {},
   "outputs": [],
   "source": [
    "import numpy as np\n",
    "import random"
   ]
  },
  {
   "cell_type": "code",
   "execution_count": 33,
   "metadata": {},
   "outputs": [],
   "source": [
    "def squareFunc(x):\n",
    "    return x**2\n",
    "    "
   ]
  },
  {
   "cell_type": "code",
   "execution_count": 35,
   "metadata": {},
   "outputs": [],
   "source": [
    "class LineFunc:\n",
    "    \n",
    "    def __init__(self, slope, intercept):\n",
    "        self.slope = slope\n",
    "        self.intercept = intercept\n",
    "        \n",
    "    def out(x):\n",
    "        return self.slope*x + intercept"
   ]
  },
  {
   "cell_type": "code",
   "execution_count": 44,
   "metadata": {},
   "outputs": [],
   "source": [
    "import random\n",
    "\n",
    "class GradientDescent:\n",
    "    \n",
    "    def __init__(self, func, func_qty, domain, input_size, learning_rate):\n",
    "        self.func = func\n",
    "        self.func_qty = func_qty\n",
    "        self.domain = domain\n",
    "        self.input_size = input_size\n",
    "        self.learning_rate = learning_rate\n",
    "        self.line = {}\n",
    "        self.input = []\n",
    "        self.curOutput = []\n",
    "        self.predOutput = []\n",
    "    \n",
    "    \n",
    "    ''' Initiates input randomly '''\n",
    "    def initInput(self):\n",
    "        for qty in range(0, 2):\n",
    "            self.input.append([ random.uniform(dominio[0], dominio[1]) for i in range(0, self.input_size) ])\n",
    "    \n",
    "    \n",
    "    ''' Initiates func '''\n",
    "    def initFunc(self):\n",
    "        for qty in range(0, 2):\n",
    "            if func == 'line':\n",
    "                self.line[]\n",
    "            \n",
    "    \n",
    "    ''' Calculate predicted output '''\n",
    "    def calcPredictedOutput(self):\n",
    "        for qty in range(0, 2):\n",
    "            self.predOutput = [ squareFunc(x) for x in self.input ]\n",
    "        \n",
    "        \n",
    "    ''' Calculate current output '''\n",
    "    def calcCurOutput(self):\n",
    "        if func == 'line':\n",
    "            self.curOutput = [  ]\n",
    "    \n",
    "    \n",
    "    def run(self):\n",
    "        self.initInput()\n",
    "        print(self.input)\n",
    "        \n",
    "    \n",
    "    "
   ]
  },
  {
   "cell_type": "code",
   "execution_count": 45,
   "metadata": {},
   "outputs": [
    {
     "name": "stdout",
     "output_type": "stream",
     "text": [
      "[[1.4184859330263455, -1.0712663894634962, -1.1648846053450082, 1.379762318981923, -0.6887329073456034, 0.43640132244967766, -0.1518699893712383, -0.25372276800726423, 0.06577117407621236, 1.7201229218818295], [0.43453718470571756, -0.9492040168808007, -1.5417755437823706, 1.8234411208663235, 0.10017550286273069, -0.21482801102330784, 1.941109375939869, 0.39078559769740284, -0.4233867655648025, 1.4227747855762676]]\n"
     ]
    }
   ],
   "source": [
    "func = 'line'\n",
    "func_qty = 2\n",
    "domain = (-2, 2)\n",
    "learning_rate = 0.1\n",
    "input_size = 10\n",
    "\n",
    "gd = GradientDescent(func, func_qty, domain, input_size, learning_rate)\n",
    "gd.run()"
   ]
  },
  {
   "cell_type": "code",
   "execution_count": null,
   "metadata": {},
   "outputs": [],
   "source": []
  }
 ],
 "metadata": {
  "kernelspec": {
   "display_name": "Python 3",
   "language": "python",
   "name": "python3"
  },
  "language_info": {
   "codemirror_mode": {
    "name": "ipython",
    "version": 3
   },
   "file_extension": ".py",
   "mimetype": "text/x-python",
   "name": "python",
   "nbconvert_exporter": "python",
   "pygments_lexer": "ipython3",
   "version": "3.4.3"
  }
 },
 "nbformat": 4,
 "nbformat_minor": 2
}
