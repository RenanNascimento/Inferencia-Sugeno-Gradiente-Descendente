{
 "cells": [
  {
   "cell_type": "markdown",
   "metadata": {},
   "source": [
    "# Inferencia Sugeno - Gradiente Descendente\n",
    "Utilizando o metodo do gradiente descendente para aproximar a saída para f(x)=x^2\n",
    "\n",
    "## Autores\n",
    "Renan Mateus Bernado do Nascimento\n",
    "<br>Nicolas Arruda Maduro"
   ]
  },
  {
   "cell_type": "code",
   "execution_count": 89,
   "metadata": {},
   "outputs": [],
   "source": [
    "import numpy as np\n",
    "import random\n",
    "import matplotlib.pyplot as plt"
   ]
  },
  {
   "cell_type": "code",
   "execution_count": 90,
   "metadata": {},
   "outputs": [],
   "source": [
    "class IpsilonFunc:\n",
    "    \n",
    "    def __init__(self, p, q):\n",
    "        self.p = p\n",
    "        self.q = q\n",
    "        \n",
    "    def out(self, x):\n",
    "        return self.p*x + self.q"
   ]
  },
  {
   "cell_type": "code",
   "execution_count": 97,
   "metadata": {},
   "outputs": [],
   "source": [
    "import random\n",
    "\n",
    "class GradientDescent:\n",
    "    \n",
    "    def __init__(self, func, func_qty, domain, input_size, learning_rate, yRange, iteration):\n",
    "        self.func = func\n",
    "        self.func_qty = func_qty\n",
    "        self.domain = domain\n",
    "        self.input_size = input_size\n",
    "        self.learning_rate = learning_rate\n",
    "        self.y1 = IpsilonFunc(random.uniform(yRange[0], yRange[1]), random.uniform(yRange[0], yRange[1]))\n",
    "        self.y2 = IpsilonFunc(random.uniform(yRange[0], yRange[1]), random.uniform(yRange[0], yRange[1]))\n",
    "        self.input = []\n",
    "        self.output = []\n",
    "        self.predOutput = []\n",
    "        self.iteration = iteration\n",
    "        self.error_iteration = []\n",
    "    \n",
    "    def squareFunc(self, x):\n",
    "        return x**2\n",
    "    \n",
    "    def pertinenceFunc1(self, x):\n",
    "        return -0.25*x+0.5\n",
    "    \n",
    "    def pertinenceFunc2(self, x):\n",
    "        return 0.25*x+0.5\n",
    "    \n",
    "    ''' Initiates input randomly '''\n",
    "    def initInput(self):\n",
    "        self.input = [ random.uniform(dominio[0], dominio[1]) for i in range(0, self.input_size) ]\n",
    "            \n",
    "    \n",
    "    ''' Calculates output '''\n",
    "    def calcOutput(self):\n",
    "        for x in self.input:\n",
    "            self.output = [ squareFunc(x) for x in self.input ]\n",
    "        \n",
    "        \n",
    "    ''' Calculates predicted output '''\n",
    "    def calcPredictedOutput(self, x):\n",
    "        num = self.y1.out(x)*pertinenceFunc1(x) + self.y2.out(x)*pertinenceFunc2(x)\n",
    "        den = pertinenceFunc1(x)+pertinenceFunc2(x)\n",
    "        return num/den\n",
    "    \n",
    "    \n",
    "    def calcError(self, y, yPred):\n",
    "        return 0.5*pow((y - yPred), 2)\n",
    "    \n",
    "    \n",
    "    ''' Partial derivative Error -> p '''\n",
    "    def pDErrorP(self, y, yPred, w, w1, w2, x):\n",
    "        return (y - yPred)*(w/(w1+w2)*x)\n",
    "    \n",
    "    \n",
    "    ''' Partial derivative Error -> q '''\n",
    "    def pDErrorQ(self, y, yPred, w, w1, w2):\n",
    "        return (y - yPred)*(w/(w1+w2))\n",
    "    \n",
    "    ''' Updates an y '''\n",
    "    def update(self, pDErrorP, pDErrorQ):\n",
    "        self.y1.p = self.y1.p - self.learning_rate*sum(pDErrorP)\n",
    "        self.y2.p = self.y2.p - self.learning_rate*sum(pDErrorP)\n",
    "        self.y1.q = self.y1.q - self.learning_rate*sum(pDErrorQ)\n",
    "        self.y2.q = self.y2.q - self.learning_rate*sum(pDErrorQ)\n",
    "        \n",
    "    \n",
    "    def plotGraph(self, iteration, error):\n",
    "        plt.plot(iteration, error, label='Error')\n",
    "        plt.ylabel('Error')\n",
    "        plt.xlabel('Iteration')\n",
    "        plt.title('Error x Iteration')\n",
    "        plt.legend()\n",
    "        plt.show()\n",
    "    \n",
    "    def run(self):\n",
    "        self.initInput()\n",
    "        self.calcOutput()\n",
    "        time = []\n",
    "        \n",
    "        for i in range(0, iteration):\n",
    "            time.append(i)\n",
    "            error = []\n",
    "            pDErrorP_y1 = []\n",
    "            pDErrorP_y2 = []\n",
    "            pDErrorQ_y1 = []\n",
    "            pDErrorQ_y2 = []\n",
    "            \n",
    "            for i in range(0, self.input_size):\n",
    "                yPred = self.calcPredictedOutput(self.input[i])\n",
    "                error.append(self.calcError(self.output[i], yPred))\n",
    "                pDErrorP_y1.append(self.pDErrorP(self.output[i], yPred, pertinenceFunc1(self.input[i]), pertinenceFunc1(self.input[i]), pertinenceFunc2(self.input[i]), self.input[i]))\n",
    "                pDErrorP_y2.append(self.pDErrorP(self.output[i], yPred, pertinenceFunc2(self.input[i]), pertinenceFunc1(self.input[i]), pertinenceFunc2(self.input[i]), self.input[i]))\n",
    "                pDErrorQ_y1.append(self.pDErrorQ(self.output[i], yPred, pertinenceFunc1(self.input[i]), pertinenceFunc1(self.input[i]), pertinenceFunc2(self.input[i])))\n",
    "                pDErrorP_y2.append(self.pDErrorQ(self.output[i], yPred, pertinenceFunc2(self.input[i]), pertinenceFunc1(self.input[i]), pertinenceFunc2(self.input[i])))\n",
    "                \n",
    "            self.update(pDErrorP_y1, pDErrorQ_y1)\n",
    "            self.update(pDErrorP_y2, pDErrorQ_y2)\n",
    "            self.error_iteration.append(sum(error))\n",
    "            \n",
    "        \n",
    "        self.plotGraph(time, self.error_iteration)\n",
    "        \n",
    "                \n",
    "            \n",
    "        \n",
    "        \n",
    "        \n",
    "    \n",
    "    "
   ]
  },
  {
   "cell_type": "code",
   "execution_count": 98,
   "metadata": {},
   "outputs": [
    {
     "data": {
      "image/png": "[encoded data removed]",
      "text/plain": [
       "<matplotlib.figure.Figure at 0x7fd1ea082710>"
      ]
     },
     "metadata": {},
     "output_type": "display_data"
    }
   ],
   "source": [
    "func = 'line'\n",
    "func_qty = 2\n",
    "domain = (-2, 2)\n",
    "input_size = 10\n",
    "learning_rate = 0.1\n",
    "yRange = (-100, 100)\n",
    "iteration = 100\n",
    "\n",
    "gd = GradientDescent(func, func_qty, domain, input_size, learning_rate, yRange, iteration)\n",
    "gd.run()"
   ]
  },
  {
   "cell_type": "code",
   "execution_count": null,
   "metadata": {},
   "outputs": [],
   "source": []
  }
 ],
 "metadata": {
  "kernelspec": {
   "display_name": "Python 3",
   "language": "python",
   "name": "python3"
  },
  "language_info": {
   "codemirror_mode": {
    "name": "ipython",
    "version": 3
   },
   "file_extension": ".py",
   "mimetype": "text/x-python",
   "name": "python",
   "nbconvert_exporter": "python",
   "pygments_lexer": "ipython3",
   "version": "3.4.3"
  }
 },
 "nbformat": 4,
 "nbformat_minor": 2
}
